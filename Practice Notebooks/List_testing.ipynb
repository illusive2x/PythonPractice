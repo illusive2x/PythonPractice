{
 "cells": [
  {
   "cell_type": "code",
   "execution_count": 1,
   "metadata": {},
   "outputs": [
    {
     "name": "stdout",
     "output_type": "stream",
     "text": [
      "1 1000000 500000500000\n",
      "[1, 3, 5, 7, 9, 11, 13, 15, 17, 19]\n",
      "[3, 6, 9, 12, 15, 18, 21, 24, 27, 30]\n",
      "[1, 8, 27, 64, 125, 216, 343, 512, 729, 1000]\n"
     ]
    }
   ],
   "source": [
    "number = list(range(1, 1000001))\n",
    "odd_list = list(range(1, 20, 2))\n",
    "three_list = list(range(3, 31, 3))\n",
    "cube_list = [value**3 for value in range(1, 11)]\n",
    "\n",
    "\n",
    "print(min(number), max(number), sum(number))\n",
    "print(odd_list)\n",
    "print(three_list)\n",
    "print(cube_list)"
   ]
  },
  {
   "cell_type": "code",
   "execution_count": 2,
   "metadata": {},
   "outputs": [
    {
     "name": "stdout",
     "output_type": "stream",
     "text": [
      "['charles', 'martina', 'michael']\n",
      "['michael', 'florence', 'eli']\n"
     ]
    }
   ],
   "source": [
    "players = ['charles', 'martina', 'michael', 'florence', 'eli']\n",
    "print(players[0:3])\n",
    "\n",
    "players = ['charles', 'martina', 'michael', 'florence', 'eli']\n",
    "print(players[-3:])"
   ]
  },
  {
   "cell_type": "code",
   "execution_count": 3,
   "metadata": {},
   "outputs": [
    {
     "name": "stdout",
     "output_type": "stream",
     "text": [
      "Here are the first three players on my team:\n",
      "Charles\n",
      "Martina\n",
      "Michael\n"
     ]
    }
   ],
   "source": [
    "players = ['charles', 'martina', 'michael', 'florence', 'eli']\n",
    "\n",
    "print(\"Here are the first three players on my team:\")\n",
    "for player in players[:3]:\n",
    "    print(player.title())"
   ]
  },
  {
   "cell_type": "code",
   "execution_count": 4,
   "metadata": {},
   "outputs": [
    {
     "name": "stdout",
     "output_type": "stream",
     "text": [
      "My favorite foods are:\n",
      "['falafel', 'carrot cake', 'canoli']\n",
      "\n",
      "My friend's favorite foods are:\n",
      "['pizza', 'falafel', 'carrot cake', 'ice cream']\n"
     ]
    }
   ],
   "source": [
    "my_foods = ['pizza', 'falafel', 'carrot cake']\n",
    "friend_foods = my_foods[:]\n",
    "\n",
    "my_foods.append('canoli')\n",
    "friend_foods.append('ice cream')\n",
    "\n",
    "print(\"My favorite foods are:\")\n",
    "print(my_foods[-3:])\n",
    "\n",
    "print(\"\\nMy friend's favorite foods are:\")\n",
    "print(friend_foods)"
   ]
  },
  {
   "cell_type": "code",
   "execution_count": 5,
   "metadata": {},
   "outputs": [
    {
     "name": "stdout",
     "output_type": "stream",
     "text": [
      "My favorite pizzas are:\n",
      "buffalo chicken\n",
      "peperoni\n",
      "cheese\n",
      "the works\n",
      "\n",
      "My friend's favorite pizzas are:\n",
      "buffalo chicken\n",
      "peperoni\n",
      "cheese\n"
     ]
    }
   ],
   "source": [
    "my_pizza = ['buffalo chicken', 'peperoni', 'cheese']\n",
    "friends_pizza = my_pizza[:]\n",
    "\n",
    "my_pizza.append('the works')\n",
    "\n",
    "print(\"My favorite pizzas are:\")\n",
    "for pizza in my_pizza:\n",
    "    print(pizza)\n",
    "\n",
    "print(\"\\nMy friend's favorite pizzas are:\")\n",
    "for pizza in friends_pizza:\n",
    "    print(pizza)"
   ]
  }
 ],
 "metadata": {
  "kernelspec": {
   "display_name": "Python 3.11.0 64-bit",
   "language": "python",
   "name": "python3"
  },
  "language_info": {
   "codemirror_mode": {
    "name": "ipython",
    "version": 3
   },
   "file_extension": ".py",
   "mimetype": "text/x-python",
   "name": "python",
   "nbconvert_exporter": "python",
   "pygments_lexer": "ipython3",
   "version": "3.11.0"
  },
  "orig_nbformat": 4,
  "vscode": {
   "interpreter": {
    "hash": "c8062e89097490d77d28b57efb768ff2be2299ad68a7ee4d9cefd1bb32654035"
   }
  }
 },
 "nbformat": 4,
 "nbformat_minor": 2
}
