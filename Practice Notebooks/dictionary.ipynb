{
 "cells": [
  {
   "cell_type": "code",
   "execution_count": null,
   "metadata": {},
   "outputs": [],
   "source": []
  }
 ],
 "metadata": {
  "kernelspec": {
   "display_name": "Python 3.11.0 64-bit",
   "language": "python",
   "name": "python3"
  },
  "language_info": {
   "name": "python",
   "version": "3.11.0"
  },
  "orig_nbformat": 4,
  "vscode": {
   "interpreter": {
    "hash": "c8062e89097490d77d28b57efb768ff2be2299ad68a7ee4d9cefd1bb32654035"
   }
  }
 },
 "nbformat": 4,
 "nbformat_minor": 2
}
