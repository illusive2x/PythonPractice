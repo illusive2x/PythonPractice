{
 "cells": [
  {
   "cell_type": "code",
   "execution_count": 2,
   "metadata": {},
   "outputs": [
    {
     "name": "stdout",
     "output_type": "stream",
     "text": [
      "{'color': 'yellow', 'points': 10, 'speed': 'medium'}\n",
      "{'color': 'yellow', 'points': 10, 'speed': 'medium'}\n",
      "{'color': 'yellow', 'points': 10, 'speed': 'medium'}\n",
      "{'color': 'green', 'points': 5, 'speed': 'slow'}\n",
      "{'color': 'green', 'points': 5, 'speed': 'slow'}\n",
      "...\n"
     ]
    }
   ],
   "source": [
    "# Make an empty list for storing aliens.\n",
    "aliens = []\n",
    "\n",
    "# Make 30 green aliens.\n",
    "for alien_number in range (30):\n",
    "    new_alien = {'color': 'green', 'points': 5, 'speed': 'slow'}\n",
    "    aliens.append(new_alien)\n",
    "\n",
    "for alien in aliens[:3]:\n",
    "    if alien['color'] == 'green':\n",
    "        alien['color'] = 'yellow'\n",
    "        alien['speed'] = 'medium'\n",
    "        alien['points'] = 10\n",
    "\n",
    "# Show the first 5 aliens.\n",
    "for alien in aliens[:5]:\n",
    "    print(alien)\n",
    "print(\"...\")"
   ]
  },
  {
   "cell_type": "code",
   "execution_count": 12,
   "metadata": {},
   "outputs": [
    {
     "name": "stdout",
     "output_type": "stream",
     "text": [
      "[{'name': 'Gaby', 'age': 30, 'job': 'Software Engineer'}, {'name': 'Adrian', 'age': 32, 'job': 'Accounting Manager'}]\n",
      "\n",
      "Here is what I know about you Gaby\n",
      "\tname: Gaby\n",
      "\tage: 30\n",
      "\tjob: Software Engineer\n",
      "\n",
      "Here is what I know about you Adrian\n",
      "\tname: Adrian\n",
      "\tage: 32\n",
      "\tjob: Accounting Manager\n"
     ]
    }
   ],
   "source": [
    "people = []\n",
    "person = {\n",
    "    'name': 'Gaby',\n",
    "    'age': 30,\n",
    "    'job': 'Software Engineer'\n",
    "}\n",
    "people.append(person)\n",
    "person = {   \n",
    "    'name': 'Adrian',\n",
    "    'age': 32,\n",
    "    'job': 'Accounting Manager'\n",
    "}\n",
    "people.append(person)\n",
    "\n",
    "print(people)\n",
    "\n",
    "for person in people:\n",
    "    print(f\"\\nHere is what I know about you {person['name'].title()}\")\n",
    "    for key, value in person.items():\n",
    "        print(f\"\\t{key}: {str(value)}\")\n",
    "\n",
    "\n",
    "\n"
   ]
  },
  {
   "cell_type": "code",
   "execution_count": 13,
   "metadata": {},
   "outputs": [
    {
     "name": "stdout",
     "output_type": "stream",
     "text": [
      "\n",
      "Eric likes the following places:\n",
      "- Bear Mountain\n",
      "- Death Valley\n",
      "- Tierra Del Fuego\n",
      "\n",
      "Erin likes the following places:\n",
      "- Hawaii\n",
      "- Iceland\n",
      "\n",
      "Ever likes the following places:\n",
      "- Mt. Verstovia\n",
      "- The Playground\n",
      "- South Carolina\n"
     ]
    }
   ],
   "source": [
    "favorite_places = {\n",
    "    'eric': ['bear mountain', 'death valley', 'tierra del fuego'],\n",
    "    'erin': ['hawaii', 'iceland'],\n",
    "    'ever': ['mt. verstovia', 'the playground', 'south carolina']\n",
    "    }\n",
    "\n",
    "for name, places in favorite_places.items():\n",
    "    print(\"\\n\" + name.title() + \" likes the following places:\")\n",
    "    for place in places:\n",
    "        print(\"- \" + place.title())"
   ]
  },
  {
   "cell_type": "code",
   "execution_count": 14,
   "metadata": {},
   "outputs": [
    {
     "name": "stdout",
     "output_type": "stream",
     "text": [
      "\n",
      "Santiago is in Chile.\n",
      "  It has a population of about 6158080.\n",
      "  The Andes mountains are nearby.\n",
      "\n",
      "Talkeetna is in Alaska.\n",
      "  It has a population of about 876.\n",
      "  The Alaska Range mountains are nearby.\n",
      "\n",
      "Kathmandu is in Nepal.\n",
      "  It has a population of about 1003285.\n",
      "  The Himilaya mountains are nearby.\n"
     ]
    }
   ],
   "source": [
    "cities = {\n",
    "    'santiago': {\n",
    "        'country': 'chile',\n",
    "        'population': 6158080,\n",
    "        'nearby mountains': 'andes',\n",
    "        },\n",
    "    'talkeetna': {\n",
    "        'country': 'alaska',\n",
    "        'population': 876,\n",
    "        'nearby mountains': 'alaska range',\n",
    "        },\n",
    "    'kathmandu': {\n",
    "        'country': 'nepal',\n",
    "        'population': 1003285,\n",
    "        'nearby mountains': 'himilaya',\n",
    "        }\n",
    "    }\n",
    "\n",
    "for city, city_info in cities.items():\n",
    "    country = city_info['country'].title()\n",
    "    population = city_info['population']\n",
    "    mountains = city_info['nearby mountains'].title()\n",
    "\n",
    "    print(\"\\n\" + city.title() + \" is in \" + country + \".\")\n",
    "    print(\"  It has a population of about \" + str(population) + \".\")\n",
    "    print(\"  The \" + mountains + \" mountains are nearby.\")"
   ]
  },
  {
   "cell_type": "markdown",
   "metadata": {},
   "source": []
  },
  {
   "cell_type": "code",
   "execution_count": null,
   "metadata": {},
   "outputs": [],
   "source": []
  }
 ],
 "metadata": {
  "kernelspec": {
   "display_name": "Python 3.11.0 64-bit",
   "language": "python",
   "name": "python3"
  },
  "language_info": {
   "codemirror_mode": {
    "name": "ipython",
    "version": 3
   },
   "file_extension": ".py",
   "mimetype": "text/x-python",
   "name": "python",
   "nbconvert_exporter": "python",
   "pygments_lexer": "ipython3",
   "version": "3.11.0"
  },
  "orig_nbformat": 4,
  "vscode": {
   "interpreter": {
    "hash": "5238573367df39f7286bb46f9ff5f08f63a01a80960060ce41e3c79b190280fa"
   }
  }
 },
 "nbformat": 4,
 "nbformat_minor": 2
}
